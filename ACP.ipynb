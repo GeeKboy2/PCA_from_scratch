{
 "cells": [
  {
   "cell_type": "markdown",
   "metadata": {
    "slideshow": {
     "slide_type": "slide"
    }
   },
   "source": [
    "<h1>Assignment 1 : Analyse en composantes principales</h1>\n",
    "\n",
    "Auteur : Nicolas Papadakis, 2022\n"
   ]
  },
  {
   "cell_type": "markdown",
   "metadata": {},
   "source": [
    "# 1. Introduction "
   ]
  },
  {
   "cell_type": "markdown",
   "metadata": {
    "slideshow": {
     "slide_type": "-"
    }
   },
   "source": [
    "## Objectif\n",
    "\n",
    "Nous allons utiliser l'Analyse en Composantes Principales (ACP)  sur un jeu de données, \n",
    "afin de mettre en évidence le principe, l'intérêt (réduction de dimension) et les limitations (interprétation de la visualisation) de cette méthode."
   ]
  },
  {
   "cell_type": "markdown",
   "metadata": {
    "slideshow": {
     "slide_type": "slide"
    }
   },
   "source": [
    "## Le jeu de données d'empreinte écologique\n",
    "\n",
    "Ce jeu de données, produit par l'organisme à but non lucratif \"Global Footprint Network\" fournit depuis 2003 des informations sur l'empreinte écologique des pays, et calcule notamment chaque année le [Jour de dépassement](https://fr.wikipedia.org/wiki/Global_Footprint_Network#Le_Jour_de_d%C3%A9passement), où l'humanité a épuisé les ressources naturelles de la Terre pour l'année en cours.\n",
    "Les données renseignent sur l'empreinte écologique  de la production, de la consommation et de la biocapacité (capacité à fournir des ressources renouvellables) de chaque pays par rapport aux composantes suivantes :\n",
    "- les terres cultivées \n",
    "- les pâturages \n",
    "- les forêts \n",
    "- les zones de pêche \n",
    "- les terrains bâtis\n",
    "- les émissions carbones.\n",
    "\n",
    "Toutes ces composantes sont exprimées dans une même unité, l'[hectare global](https://fr.wikipedia.org/wiki/Biocapacit%C3%A9#Hectare_global), censée mesurer l'empreinte écologique.\n",
    "Comme c'est toujours le cas, ces informations sont sujettes à des incertitudes liées à la collecte des données et aux hypothèses (par ex. qu'est ce qui est comptabilisé et ne l'est pas) faites par les auteurs et non présentées ici.\n",
    "\n",
    "Nous nous intéressons dans ce TP uniquement aux données de consommation par pays sur l'année 2018. Les valeurs correspondantes de production (non fournies ici) sont inférieures, ce qui explique que chaque année, on consomme plus que ce que la Terre est capable de produire en une année.\n",
    "Nous utiliserons également des données complémentaires fournies dans la base : le PIB par habitant ainsi que  l'[indice de développement humain](https://fr.wikipedia.org/wiki/Indice_de_d%C3%A9veloppement_humain)."
   ]
  },
  {
   "cell_type": "markdown",
   "metadata": {},
   "source": [
    "### Lire le fichier de données\n",
    "Pour lire les données, on peut utiliser le module `panda` qui permet de gérer des tableaux de données."
   ]
  },
  {
   "cell_type": "code",
   "execution_count": null,
   "metadata": {
    "slideshow": {
     "slide_type": "slide"
    }
   },
   "outputs": [],
   "source": [
    "import pandas as pd\n",
    "data = pd.read_csv(\"ecological_footprint_consommation.csv\",encoding = 'ISO-8859-1', index_col=0)\n",
    "data.head()"
   ]
  },
  {
   "cell_type": "markdown",
   "metadata": {},
   "source": [
    " Dans ce qui suit, on récupère le tableau des données qualitatives dans la matrice $X$ et la variable qualitative dans un vecteur \"region\". Quelques exemples d'affichage du contenu des données sont également fournis."
   ]
  },
  {
   "cell_type": "code",
   "execution_count": null,
   "metadata": {},
   "outputs": [],
   "source": [
    "#Import des autres modules utiles\n",
    "%matplotlib inline\n",
    "import numpy as np\n",
    "import matplotlib.pyplot as plt\n",
    "\n",
    "\n",
    "n=data.shape[0]\n",
    "print('Nombre d\\'individus (pays) :', n)\n",
    "\n",
    "## La première variable contient la région du globe.\n",
    "## Récupérer la donnée qualitative (la région du globe)\n",
    "region=data.loc[:,data.columns[0]].to_list()\n",
    "\n",
    "\n",
    "## Récupérer le tableau des données quantitatives\n",
    "\n",
    "#considérer les données de la colonne start_col à la dernière colonne\n",
    "start_col=1 #doit être entre 1  (la colonne 0 est celle de la région) et data.shape[1]\n",
    "\n",
    "p=data.shape[1]-start_col\n",
    "print('La dimension des données est : ', p)\n",
    "\n",
    "X=data.loc[:, data.columns[start_col]:data.columns[start_col+p-1]].to_numpy().reshape([n,p])\n",
    "print('Taille du tableau des données :', X.shape,'\\n')\n",
    "\n",
    "#Exemples\n",
    "print('L\\'individu \\\"', data.index[4],'\\\" a pour valeur de région :',region[4],'\\n')\n",
    "print('L\\'individu \\\"', data.index[4],'\\\" a pour variables :\\n', X[4,:],'\\n')\n",
    "\n",
    "print('Les valeurs de la variable \\\"',  data.columns[3] , '\\\" pour l\\'ensemble des individus sont:\\n', X[:,2])\n",
    "#décalage d'index ci dessus, car la première colonne a été mise dans région\n"
   ]
  },
  {
   "cell_type": "markdown",
   "metadata": {},
   "source": [
    "## Objectif  \n",
    "Dans ce qui suit, nous allons utiliser l'ACP pour essayer de déterminer des similarités ou des différences entre les empreintes écologiques des différents pays."
   ]
  },
  {
   "cell_type": "markdown",
   "metadata": {},
   "source": [
    "## L'ACP\n",
    "L'ACP consiste à projeter des données dans un espace décorrélé, pour 2 objectifs:\n",
    "- Réduire la dimension des données, en résumant de manière optimale l'information à partir des composantes les plus significatives\n",
    "- Visualiser des données de grande dimension (ici $p=8$) sur un plan $2D$ afin, potentiellement, de mieux les comprendre"
   ]
  },
  {
   "cell_type": "markdown",
   "metadata": {},
   "source": [
    "# 2. ACP non normalisée : \n",
    "\n",
    "Soit $X=\\{x_i^j\\}$ le tableau des données contenant $i=1\\cdots n$ individus et $j=1\\cdots p$ variables\n",
    "\n",
    "L'ACP non normalisée consiste à :\n",
    "- Centrer les données : $\\bar x_i^j= x_i^j-\\mu^j$, où $\\mu^j=\\frac1n\\sum_{i=1}^nx_i^j$\n",
    "- Calculer $\\Sigma$, la matrice de covariance des données :\n",
    " $$\\Sigma =\\frac1n \\bar X^T\\bar X=\\begin{pmatrix}\\sigma_1^2 & \\text{Cov}(\\bar x^1,\\bar x^2)&\\cdots&\\text{Cov}(\\bar x^1,\\bar x^p)\\\\\n",
    "\t\t\t\t \\text{Cov}(\\bar x^1,\\bar x^2)&\\ddots & & \\vdots\\\\\n",
    "\t\t\t\t \\vdots & &\\ddots &\\vdots\\\\\n",
    "\t\t\t\t \\text{Cov}(\\bar x^1,\\bar x^p)&\\cdots&\\cdots &\\sigma_p^2\n",
    "\\end{pmatrix}$$\n",
    "où $\\text{Cov}(\\bar x^j,\\bar x^{j'})=\\frac1n\\sum_{i=1}^n\\bar x^j_i \\bar x_i^{j'}$ et $\\sigma_j^2=\\text{Cov}(\\bar x^j,\\bar x^{j})$\n",
    "- Réaliser la décomposition de $\\Sigma$ en vecteur propre / valeurs propres : $\\Sigma=V^T \\Lambda V$, où $V$ est la matrice contenant les vecteurs propres et $\\Lambda$ est une matrice diagonale contenant les $p$ valeurs propres $\\{\\lambda_j\\}$. \n",
    "- Calculer les coordonnées projetées est: $\\bar S=\\bar XV$, où $s_i^j$ est la coordonée projetée de l'individu $i$ sur la composante principale $j$\n",
    "\n",
    "L'inertie relative d'une composante principale $j$ est $I_j=\\frac{\\lambda_j}{\\sum_{k=1}^p\\lambda_k}$.\n",
    "L'inertie peut être utilisée pour réduire la dimension des données, en ne conservant que les composantes significatives (ayant une proportion d'inertie importante)."
   ]
  },
  {
   "cell_type": "markdown",
   "metadata": {},
   "source": [
    "## <span style=\"color:red\"> Questions  (9 points)</span>\n",
    "Réaliser une ACP non normalisée:\n",
    "- Centrer les données pour obtenir $\\bar X$ (1pt)\n",
    "- Calculer $\\Sigma$, la matrice de variance-covariance des données centrées $\\bar X$ (1pt)\n",
    "- Calculer les vecteurs propres et valeurs propres de cette matrice, en utilisant la fonction `np.linalg.eig` (1pts)\n",
    "***Attention :*** *Les valeurs et vecteurs propres propres fournis par `np.linalg.eig` ne sont pas nécessairement ordonnées, et il faut veiller à bien projeter sur les vecteurs propres correspondants aux 2 valeurs propres les plus grandes.*\n",
    "- Calculer la proportion d'inertie relative de l'ensemble des composantes principales (1pt)\n",
    "- Calculer les coordonnées projetées des individus sur les composantes principales (1pts)\n",
    "- Tracer sur un plan 2D (par exemple avec `plt.scatter`) le nuage des individus sur les 2 axes principaux, en utilisant la même échelle pour l'affichage des $2$ axes (par exemple avec `plt.axis('equal')`) . Afficher à côté de quelques points le nom du pays correspondant (par exemple avec `plt.annotate`). Les coordonnées de chaque pays sont celles correspondantes aux 2 premières composantes principales, celles qui ont la plus forte proportion d'inertie. (2pts)\n",
    "- Qu'observez-vous ? Pourquoi ? (2pts)"
   ]
  },
  {
   "cell_type": "code",
   "execution_count": null,
   "metadata": {},
   "outputs": [],
   "source": [
    "##ACP non normalisée :\n",
    "\n",
    "##Centrer les données (1pt)\n",
    "X_=X-((1/n)*np.sum(X,axis=0))\n",
    "\n",
    "\n",
    "#Matrice de variance-covaraiance (1pt)\n",
    "S=(1/n)*np.dot(X_.T,X_)\n",
    "\n",
    "\n",
    "\n",
    "##Vecteurs propres et valeurs propres (1pt)\n",
    "V=np.eye(n)\n",
    "D=np.eye(n)\n",
    "D,V=np.linalg.eig(S)\n",
    "#D est une collone\n",
    "##############################\"\"#je multiplie par I8 pour la transformer en une matrice (8,8) ???????????????????\n",
    "\n",
    "#print(D)\n",
    "a=np.argsort(D)      # donne les indices qui peuvents ordonner D.\n",
    "#print(a)\n",
    "print('la plus grandes valeur propre :',D[a[-1]],'       la deuxieme plus grande valeur propre :',D[a[-2]]) # les indices des deux plus grandes valeurs\n",
    "\n",
    "\n",
    "##Inertie (1pt)\n",
    "I=np.sum(D)\n",
    "#print('I1 =',D[a[-1]]/I,'    I2 =',(D[a[-1]]+D[a[-2]])/I)\n",
    "print(\"on peut meme réduire à une dimension car on a réussi à avoir une inertie > 95%\")\n",
    "\n",
    "\n",
    "##Cordonnées projetées (1pt)\n",
    "#print(data.index[a[-2]])\n",
    "S_=np.dot(X_,V)\n",
    "x,y=S_[:,a[-1]],S_[:,a[-2]]\n",
    "\n",
    "\n",
    "##Nuage des individus (2pts)\n",
    "plt.scatter(x, y)\n",
    "for i in range(len(x)):\n",
    "    if(i%20==0):\n",
    "        plt.annotate(str(data.index[i]), (x[i], y[i]))\n",
    "plt.axis('equal')\n",
    "plt.title('Répartition des pays sans normalisation')\n",
    "plt.legend(['pays'])\n",
    "plt.show()"
   ]
  },
  {
   "cell_type": "markdown",
   "metadata": {},
   "source": [
    "On remarque qu'on peut se limiter à une seule dimension car I1>90%. De plus les pays sont trop serrés suivant l'axe Y ce qui peut provenir de la non-normalisation des données et ce qui justifie davantage qu'on puisse se limiter à une seule dimension. On peut remarquer que notre graphe est correct car les pays Africains se trouvent à l'extrémité droite du graphe.(2pts)"
   ]
  },
  {
   "cell_type": "markdown",
   "metadata": {},
   "source": [
    "# 3. ACP normalisée\n",
    "\n",
    "Soit $X=\\{x_i^j\\}$ le tableau des données contenant $i=1\\cdots n$ individus et $j=1\\cdots p$ variables\n",
    "\n",
    "L'ACP normalisée consite à :\n",
    "- Standardiser les données : $\\tilde x_i^j= (x_i^j-\\mu^j)/\\sigma^j$, où $\\mu^j=\\frac1n\\sum_{i=1}^nx_i^j$ et $\\sigma^j=\\sqrt{\\frac1n\\sum_{i=1}^n(x_i^j-\\mu^j)^2}$\n",
    "- Calculer $C$, la matrice de corrélation des données :\n",
    " $$C =\\frac1n \\tilde X^T\\tilde X=\\begin{pmatrix}1 & \\frac{\\text{Cov}(\\tilde{x}^1,\\tilde{x}^2)}{\\sigma_1\\sigma_2}&\\cdots& \\frac{\\text{Cov}(\\tilde{x}^1,\\tilde{x}^p)}{\\sigma_1\\sigma_p}\\\\\n",
    "\t\t\t\t  \\frac{\\text{Cov}(\\tilde{x}^1,\\tilde{x}^2)}{\\sigma_1\\sigma_2}&\\ddots & & \\vdots\\\\\n",
    "\t\t\t\t \\vdots & &\\ddots &\\vdots\\\\\n",
    "\t\t\t\t  \\frac{\\text{Cov}(\\tilde{x}^1,\\tilde{x}^p)}{\\sigma_1\\sigma_p}&\\cdots&\\cdots &1\n",
    "\\end{pmatrix}$$\n",
    "où  $\\text{Cov}(\\tilde x^j,\\tilde x^{j'})=\\frac1n\\sum_{i=1}^n\\tilde x^j_i \\tilde x_i^{j'}$ et $\\sigma_j^2=\\text{Cov}(\\tilde x^j,\\tilde x^{j})$\n",
    "- Réaliser la décomposition de $C$ en vecteur propre / valeurs propres : $C=V^T \\Lambda V$, où $V$ est la matrice contenant les vecteurs propres et $\\Lambda$ est une matrice diagonale contenant les $p$ valeurs propres $\\{\\lambda_j\\}$. \n",
    "- Calculer les coordonnées projetées : $S=\\tilde XV$, où $s_i^j$ est la coordonée projetée de l'individu $i$ sur la composante principale $j$\n",
    "\n",
    "L'inertie relative d'une composante principale $j$ est \n",
    "$$I_j=\\frac{\\lambda_j}{\\sum_{k=1}^p\\lambda_k}$$"
   ]
  },
  {
   "cell_type": "markdown",
   "metadata": {},
   "source": [
    "## <span style=\"color:red\"> Questions  (4 points)</span>\n",
    "**Réaliser une ACP normalisée :**\n",
    "- Standardiser les données pour obtenir $\\tilde X$ (1pt)\n",
    "- Calculer la matrice $C$ de covariance des données standardisées $\\tilde X$ (=matrice de corrélation des données $X$, les vecteurs propres et valeurs propres de cette matrice, puis les coordonnées projetées (0pt, c'est comme avant)\n",
    "\n",
    "**Etude des résultats :**\n",
    "- Calculer la proportion d'inertie de l'ensemble des composantes principales (0pt). Combien de composantes faut-il garder pour conserver $90\\%$ de la variabilité des données ? (.5pt) Combien de proportion de l'inertie conservera-t-on lors d'un affichage en 2D ? (.5pt)\n",
    "- Visualisation des coordonnées projetées. Utiliser le bout de code fourni qui trace sur un plan 2D le nuage des individus, avec une couleur de point qui dépend de la région du globe à laquelle appartient le pays. Comme avant, les coordonnées de chaque pays sont celles correspondantes aux 2 premières composantes principales, les 2 de plus forte inertie relative. Qu'observez-vous ? (Faire une analyse relative aux régions, vous pouvez afficher le nom des pays si cela vous aide dans votre analyse) (2pts)\n",
    "\n"
   ]
  },
  {
   "cell_type": "code",
   "execution_count": null,
   "metadata": {},
   "outputs": [],
   "source": [
    "# ACP normalisée :\n",
    "\n",
    "#Standardiser les données (1pt)\n",
    "X_=(X-((1/n)*np.sum(X,axis=0)))/np.sqrt((1/n)*np.sum((X-((1/n)*np.sum(X,axis=0)))**2,axis=0))\n",
    "mu=(1/n)*np.sum(X,axis=0)\n",
    "sigma=np.sqrt((1/n)*np.sum((X-((1/n)*np.sum(X,axis=0)))**2,axis=0))\n",
    "#Faire l'ACP\n",
    "C=(1/n)*np.dot(X_.T,X_)\n",
    "#print(C)\n",
    "#print(S)\n",
    "V=np.eye(n)\n",
    "D=np.eye(n)\n",
    "D,V=np.linalg.eig(C)\n",
    "#print(V)\n",
    "a=np.argsort(D)\n",
    "#print(a)\n",
    "a=np.flip(a)\n",
    "#print(a)\n",
    "I=np.array((len(D),))\n",
    "I=(D/np.sum(D))\n",
    "I=np.flip(np.sort(I))\n",
    "I1=np.cumsum(I)\n",
    "\"\"\"\n",
    "I=np.sum(D)\n",
    "I1=np.empty((len(D),),dtype=float)\n",
    "for j in a:\n",
    "    np.append(I1,[[(D[j])/I]])\n",
    "    print(\"  ajout de : \",D[j]/I)\n",
    "print(I1)\n",
    "\"\"\"\n",
    "#print(I)\n",
    "#print(I1)\n",
    "location=np.where(I1>=0.9)\n",
    "S=np.dot(X_,V)\n",
    "#print(S)\n",
    "#print(V.shape)\n",
    "\"\"\"\n",
    "x,y=S[:,a[-1]],S[:,a[-2]]\n",
    "plt.scatter(x, y)\n",
    "for i in range(len(x)):\n",
    "    if(i%20==0):\n",
    "        plt.annotate(str(data.index[i]), (x[i], y[i]))\n",
    "plt.axis('equal')\n",
    "plt.xlabel('PIB')\n",
    "plt.ylabel('IDH')\n",
    "plt.title('Répartition des pays sans normalisation')\n",
    "plt.legend(['Sine'])\n",
    "plt.show()\n",
    "\"\"\"\n",
    "#Inertie\n",
    "print(\"On dépasse le 90% la premiere fois en\",location[0][0]+1,\"On a donc besoin de\",location[0][0]+1,\"composante(s)\")\n",
    "print('On garde',I1[1]*100,\"% en se limitant à la representation 2D\")"
   ]
  },
  {
   "cell_type": "markdown",
   "metadata": {},
   "source": [
    "On dépasse le 90% la première fois en 6 On a donc besoin de 6 composantes\n",
    "On garde 53.35078061532301 % en se limitant à la représentation 2D : Question sur l'intertie (1pt)"
   ]
  },
  {
   "cell_type": "code",
   "execution_count": null,
   "metadata": {},
   "outputs": [],
   "source": [
    "#Code d'affichage fourni\n",
    "#necessite la matrice S des corddonées projetée, de taille (n x p)\n",
    "\n",
    "#Récupérer la liste des régions différentes\n",
    "labels_region=pd.unique(data['Region']).tolist()\n",
    "print('Les régions possibles sont :\\n',labels_region,'\\n')\n",
    "\n",
    "\n",
    "#Transformer la variable region en index pointant vers les labels\n",
    "index_region=np.array(np.ones([n, 1]),dtype=int)\n",
    "for i in range(n):\n",
    "    index_region[i]=labels_region.index(region[i])\n",
    "\n",
    "    \n",
    "fig, ax = plt.subplots()\n",
    "\n",
    "for i in range(len(labels_region)) :\n",
    "    idx=np.where(index_region==i) \n",
    "    ax.scatter(S[idx,a[0]],S[idx,a[1]])\n",
    "\n",
    "##Afficher le nom des pays, attention on verra plus rien \n",
    "for i in range(0,n,20):\n",
    "    ax.annotate(data.index[i], (S[i,a[0]], S[i,a[1]]))    \n",
    "    ax.legend(labels_region, bbox_to_anchor=(1.02, 1), loc='upper left', borderaxespad=0)"
   ]
  },
  {
   "cell_type": "markdown",
   "metadata": {},
   "source": [
    "On remarque que les pays sont bien plus espacés que sans normalisation de données et que les pays de même région sont plus proches sauf quelques pays comme \"Other Europe\" et on peut penser que c'est une erreur car on ne garde que 53% des informations initiales. De plus les pays du même continent sont plus au moins proches. : vos conclusions (2pts)"
   ]
  },
  {
   "cell_type": "markdown",
   "metadata": {},
   "source": [
    "## Etude des individus\n",
    "Avant d'aller plus loindans l'analyse des variables, nous allons tout d'abord étudier les individus.\n",
    "Nous allons notamment regarder si certains pays ont eu un impact important sur le calcul des composantes principales tout en ayant une mauvaise qualité de représentation.\n",
    "- La qualité de représentation d'un pays $x_i$ par la composante $s^k$ est :\n",
    "$$Q(i,k)=\\frac{(s_i^k)^2}{\\sum_{l=1}^p(s_i^l)^2}$$\n",
    "\n",
    "- La contribution d'un individu $x_i$ au calcul de la composante $s^j$ est donné par :\n",
    "$$ctr(i,k)=\\frac{(s_i^k)^2}{\\sum_{m=1}^n(s^k_m)^2}$$\n",
    "\n",
    "Nous allons également examiner si le modèle a de bonnes capacités de généralisation, c'est à dire si il peut bien représenter des individus qui n'ont pas été utilisés lors du calcul de l'ACP. Nous considérons pour cela les données des $4$ pays suivants, dont les valeurs de variables (PIB, ..., carbone) sont : \n",
    "\n",
    "- Australie=[49.71, 0.921, 0.8, 0.3, 0.9, 0.1,0.1, 3.9]\n",
    "- Ethiopie=[0.57, 0.478, 0.3, 0.1, 0.4, 0.0, 0.1, 0.1]\n",
    "- France=[45.06, 0.898, 0.8, 0.2, 0.5, 0.2, 0.2, 2.5]\n",
    "- Qatar=[63.99, 0.845, 0.7, 0.3, 0.2, 0.2, 0.0, 12.8]  "
   ]
  },
  {
   "cell_type": "markdown",
   "metadata": {},
   "source": [
    "## <span style=\"color:red\"> Questions  (8 points)</span>\n",
    "**Etude des individus :**\n",
    "- Calculer la contribution de chaque pays pour chacun des axes principaux (1pt)\n",
    "- Afficher la liste des pays qui ont une contribution supérieure à 5% pour une ou l'autre des composantes principales. Afficher pour ces pays la valeur des contributions ainsi que la qualité de leur représentation (1pt)\n",
    "- Que concluez-vous ? (1pt)\n",
    "\n",
    "**Individus supplémentaires :**\n",
    "- Calculer les coordonnées projetées $s_l$ des nouveaux pays fournis (Australie, Ethipie, Danemark et Qatar)  : $s_l=\\tilde z_lV$, avec $z_l$ les variables originales du pays $l$, et $\\tilde z_l^j=(z_l^j-\\mu^j)/\\sigma^j$, les variables standardisées avec les moyennes et variances précédentes de l'ACP et $V$ les vecteures propres de l'ACP (1pt)\n",
    "- Calculer la qualité de la représentation de ces 4 pays sur les 2 composantes principales (1pt)\n",
    "- Ajoutez ces pays sur le diagramme 2D de la question précédente (celui où la couleur d'un point correspond à sa région). Indiquer le nom de ces 4 pays à côté de leur points (1pt)\n",
    "- Etudier la position de ces nouveaux pays par rapport à celles des autres pays de leurs régions. Que concluez-vous ? (2pts)"
   ]
  },
  {
   "cell_type": "code",
   "execution_count": null,
   "metadata": {},
   "outputs": [],
   "source": [
    "# Contributions (1pt)\n",
    "ctr=np.array((S.shape))\n",
    "ctr=((S**2)/(np.sum(S**2,axis=0)))\n",
    "\n",
    "# Affichage (1pt)\n",
    "sum=np.reshape(np.sum(S**2,axis=1),(1,149)).T\n",
    "Q=(S**2)/sum\n",
    "pays_cont=[]\n",
    "for i in range(n):\n",
    "    if ctr[i,a[0]] >0.05 or ctr[i,a[1]]>0.05:\n",
    "        pays_cont+=[i]\n",
    "        print(data.index[i])\n",
    "        print(\"contribution\",ctr[i,[a[0],a[1]]])\n",
    "        print(\"Qualité\",Q[i,[a[0],a[1]]])\n",
    "#print(pays_cont)\n",
    "\n",
    "# L'Australie parait proche d'un pays Européen, \n",
    "# mais la qualité de représentation de l'Australie est trop faible pour être significative.\n",
    "# Le Danemark et l'éthopie sont représentatifs de leurs régions respectives (Europe et Afrique).\n",
    "# Le Qatar semble une donnée un peu atypique : il est assez bien représenté,\n",
    "# mais très différents des autres pays (notamment ceux de sa région) une fois projeté"
   ]
  },
  {
   "cell_type": "markdown",
   "metadata": {},
   "source": [
    "On remarque que ces pays ont les contributions les plus grandes ce qui affecte de façon importante le reste des données, sauf que leur qualité est très petite ce qui est très mauvais pour la représentation car ils affectent les données des autres pays de façon négative. : vos conclusions (1pt)"
   ]
  },
  {
   "cell_type": "code",
   "execution_count": null,
   "metadata": {},
   "outputs": [],
   "source": [
    "#Nouveaux individus\n",
    "Australie=[49.71, 0.921, 0.8, 0.3, 0.9, 0.1,0.1, 3.9]\n",
    "Ethiopie=[0.57, 0.478, 0.3, 0.1, 0.4, 0.0, 0.1, 0.1]\n",
    "France=[45.06, 0.898, 0.8, 0.2, 0.5, 0.2, 0.2, 2.5]\n",
    "Qatar=[63.99, 0.845, 0.7, 0.3, 0.2, 0.2, 0.0, 12.8]          \n",
    "\n",
    "Z=np.array((Australie,Ethiopie,France,Qatar))\n",
    "Z_=(Z-mu)/sigma\n",
    "\n",
    "#Coordonnées projetées des nouveaux individus (1pt)\n",
    "Sl=np.dot(Z_,V)\n",
    "print(Sl)\n",
    "#Qualité de représentation de ces individus (1pt)\n",
    "Q=((Sl**2)/(np.sum(Sl**2,axis=1)[0]))\n",
    "#print(Q.shape)\n",
    "\n",
    "#Affichage de ces individus (1pt)\n",
    "labels_region=pd.unique(data['Region']).tolist()\n",
    "#print('Les régions possibles sont :\\n',labels_region,'\\n')\n",
    "\n",
    "#Transformer la variable region en index pointant vers les labels\n",
    "index_region=np.array(np.ones([n, 1]),dtype=int)\n",
    "for i in range(n):\n",
    "    index_region[i]=labels_region.index(region[i])\n",
    "\n",
    "    \n",
    "fig, ax = plt.subplots()\n",
    "for i in range(len(labels_region)) :\n",
    "    idx=np.where(index_region==i) \n",
    "    ax.scatter(S[idx,a[0]],S[idx,a[1]])\n",
    "    \n",
    "for i in range(0,n,20):\n",
    "    #ax.annotate(data.index[i], (S[i,0], S[i,1]))    \n",
    "    ax.legend(labels_region, bbox_to_anchor=(1.02, 1), loc='upper left', borderaxespad=0)\n",
    "#ax.scatter(Sl[:][0],Sl[:][1])\n",
    "countries=np.array((\"Australie\",\"Ethiopie\",\"France\",\"Qatar\"))\n",
    "for idx in range(len(Sl)) :\n",
    "    ax.annotate(countries[idx],(Sl[idx,a[0]],Sl[idx,a[1]]))\n",
    "    ax.scatter(Sl[idx,a[0]],Sl[idx,a[1]])\n"
   ]
  },
  {
   "cell_type": "markdown",
   "metadata": {},
   "source": [
    "On observe que l'Australie se trouve au milieu des pays Européen ce qui faux et qui prévient de sa faible qualité de représentation. Le Qatar est un peu loin des pays de Middle East ce qui tolerable par rapport à sa distance aux autres continents. Par contre on observe que l'Éthiopie se trouve bien au milieu des pays Africain , de même pour la France qui se trouve au milieu des pays Européen ce qui est bien vrai (grande qualité de représentation).\n",
    ": vos conclusions (2pts) "
   ]
  },
  {
   "cell_type": "markdown",
   "metadata": {},
   "source": [
    "# Etude des variables\n",
    "\n",
    "Nous allons à présent étudier la contribution et la qualité de représentations des variables (PIB,...)  relativement aux 2 composantes principales. On note $cor(x,s)=\\frac1n \\sum_{i=1}^nx_is_i/\\sigma$ la corrélation entre $2$ variables $x$ et $s$ centrées de dimension $n$, avec $\\sigma=\\sqrt{\\frac1n\\sum_{i=1}^ns_i^2}$. \n",
    "- La qualité de représentation d'une variable standardisée $\\tilde x^j$ par la composante $s^k$ est :\n",
    "$$Q(j,k)=\\frac{cor(\\tilde x^j,s^k)^2}{\\sum_{l=1}^p cor(\\tilde x^j,s^l)^2}$$\n",
    "\n",
    "- La contribution d'une variable $x^j$  à l'inertie de la composante $s^k$ est donné par :\n",
    "$$ctr(j,k)=\\frac{cor(\\tilde x^j,s^k)^2}{\\sum_{l=1}^p cor(\\tilde x^l,s^k)^2}$$\n",
    "\n"
   ]
  },
  {
   "cell_type": "markdown",
   "metadata": {},
   "source": [
    "## <span style=\"color:red\"> Questions  (5 points)</span>\n",
    "- Calculer la qualité de représentation de chaque variable par les deux premières composantes principales (1pt)\n",
    "- Réprésenter les variables sur le cercle des corrélations (par exemple en utilisant `plt.quiver`) (1pt)\n",
    "- Calculer et afficher la contribution de chaque variable aux 2 premières composantes principales (1pt)\n",
    "- Que pouvez-vous en déduire (variables corrélées...) ? (2pts)"
   ]
  },
  {
   "cell_type": "code",
   "execution_count": null,
   "metadata": {},
   "outputs": [],
   "source": [
    "#Qualité de représentation des variables (1pt)\n",
    "sigma=np.sqrt(np.sum(S**2,axis=0)/n)\n",
    "cor=np.dot(X_.T,S)\n",
    "cor=cor/sigma/n\n",
    "Q=cor**2/np.sum(cor**2,axis=1)\n",
    "#print(cor)\n",
    "print(\"qualité\")\n",
    "print(Q[:,[a[0],a[1]]])\n",
    "#Affichage sur le cercle des corrélations (1pt)\n",
    "\n",
    "circle=plt.Circle((0,0),1,fill=0)\n",
    "\n",
    "fig, ax = plt.subplots()\n",
    "ax.quiver(np.zeros(len(cor)),np.zeros(len(cor[0])),cor[:,a[0]],cor[:,a[1]],angles='xy', scale_units='xy', scale=1)\n",
    "ax.add_patch(circle)\n",
    "plt.axis((-2, 2, -2, 2))\n",
    "for i in range(1,len(data.columns)):\n",
    "    ax.annotate(data.columns[i],(cor[i-1,a[0]],cor[i-1,a[1]]))\n",
    "plt.axis('equal')\n",
    "#Contribution des variables (1pt)\n",
    "ctr=cor**2/np.sum(cor**2,axis=0)\n",
    "print()\n",
    "print(\"contribution\")\n",
    "print(ctr[:,[a[0],a[1]]])"
   ]
  },
  {
   "cell_type": "markdown",
   "metadata": {},
   "source": [
    "Les vecteurs ne sont pas tous proches du cercle, donc il y a 4 dimensions dont la qualité est basse.\n",
    "Et on peut effectivement voir ceci en regardant les composantes principales de la qualité (mauvaise qualité < 0.5). De plus il y a des variables corrélées comme \"PIB/Habitant\",\"Terrains bâtis\" et \"Carbone\" ce qui inutile car une seule de ces variables est suffisante pour représenter le changement des autres variables. : vos conclusions (2pts) "
   ]
  },
  {
   "cell_type": "markdown",
   "metadata": {},
   "source": [
    "## <span style=\"color:red\"> Questions bonus  (+4 points)</span>\n",
    "\n",
    "- A partir de ces résultats, argumentez sur la sélection d'un sous ensemble des variables de X qui vous semblerait pertinent (2 pt)\n",
    "- Réaliser depuis le début l'ACP normalisée sur ce sous ensemble de variables (0pt, normalement tout est déjà codé)\n",
    "- Visualiser / Analyser les résultats (2pts)\n"
   ]
  },
  {
   "cell_type": "markdown",
   "metadata": {},
   "source": [
    "On peut prendre l'ensemble des variables décorrélées et ne garder qu'une seule des corrélée. On peut aussi enlever les pays dont la contribution est très élevée et qui déforme de façon très forte notre graph. (2pts)"
   ]
  },
  {
   "cell_type": "code",
   "execution_count": null,
   "metadata": {},
   "outputs": [],
   "source": [
    "X=X[:,:6]\n",
    "X=np.delete(X,pays_cont,0)\n",
    "n=X.shape[0]\n",
    "X_=(X-((1/n)*np.sum(X,axis=0)))/np.sqrt((1/n)*np.sum((X-((1/n)*np.sum(X,axis=0)))**2,axis=0))\n",
    "mu=(1/n)*np.sum(X,axis=0)\n",
    "sigma=np.sqrt((1/n)*np.sum((X-((1/n)*np.sum(X,axis=0)))**2,axis=0))\n",
    "C=(1/n)*np.dot(X_.T,X_)\n",
    "D,V=np.linalg.eig(C)\n",
    "a=np.argsort(D)\n",
    "a=np.flip(a)\n",
    "I=np.array((len(D),))\n",
    "I=(D/np.sum(D))\n",
    "I=np.flip(np.sort(I))\n",
    "I1=np.cumsum(I)\n",
    "location=np.where(I1>=0.9)\n",
    "S=np.dot(X_,V)\n",
    "\n",
    "labels_region=pd.unique(data['Region']).tolist()\n",
    "print('Les régions possibles sont :\\n',labels_region,'\\n')\n",
    "\n",
    "\n",
    "#Transformer la variable region en index pointant vers les labels\n",
    "index_region=np.array(np.ones([n, 1]),dtype=int)\n",
    "for i in range(n):\n",
    "    index_region[i]=labels_region.index(region[i])\n",
    "\n",
    "    \n",
    "fig, ax = plt.subplots()\n",
    "for i in range(len(labels_region)) :\n",
    "    idx=np.where(index_region==i) \n",
    "    ax.scatter(S[idx,0],S[idx,1])\n",
    "\n",
    "##Afficher le nom des pays, attention on verra plus rien \n",
    "for i in range(0,n,10):\n",
    "    ax.annotate(data.index[i], (S[i,0], S[i,1]))    \n",
    "    ax.legend(labels_region, bbox_to_anchor=(1.02, 1), loc='upper left', borderaxespad=0)"
   ]
  },
  {
   "cell_type": "markdown",
   "metadata": {},
   "source": [
    "Les pays sont bien plus dispersés qu'avant, et très bien repartis dans l'espace. Ceci sachant qu'on a enlevé les pays qui fausse notre représentation et les variables qui n'ajoutent pas plus d'informations que les variables précédentes. (2 pts)"
   ]
  }
 ],
 "metadata": {
  "anaconda-cloud": {},
  "kernelspec": {
   "display_name": "Python 3 (ipykernel)",
   "language": "python",
   "name": "python3"
  },
  "language_info": {
   "codemirror_mode": {
    "name": "ipython",
    "version": 3
   },
   "file_extension": ".py",
   "mimetype": "text/x-python",
   "name": "python",
   "nbconvert_exporter": "python",
   "pygments_lexer": "ipython3",
   "version": "3.10.6"
  }
 },
 "nbformat": 4,
 "nbformat_minor": 1
}
